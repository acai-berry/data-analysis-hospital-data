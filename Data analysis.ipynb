{
 "cells": [
  {
   "cell_type": "code",
   "execution_count": 104,
   "metadata": {},
   "outputs": [],
   "source": [
    "import pandas as pd\n",
    "import matplotlib.pyplot as plt"
   ]
  },
  {
   "cell_type": "code",
   "execution_count": 8,
   "metadata": {},
   "outputs": [
    {
     "name": "stdout",
     "output_type": "stream",
     "text": [
      "Index(['Unnamed: 0', 'hospital', 'gender', 'age', 'height', 'weight', 'bmi',\n",
      "       'diagnosis', 'blood_test', 'ecg', 'ultrasound', 'mri', 'xray',\n",
      "       'children', 'months'],\n",
      "      dtype='object')\n",
      "Index(['Unnamed: 0', 'HOSPITAL', 'Sex', 'age', 'height', 'weight', 'bmi',\n",
      "       'diagnosis', 'blood_test', 'ecg', 'ultrasound', 'mri', 'xray',\n",
      "       'children', 'months'],\n",
      "      dtype='object')\n",
      "Index(['Unnamed: 0', 'Hospital', 'Male/female', 'age', 'height', 'weight',\n",
      "       'bmi', 'diagnosis', 'blood_test', 'ecg', 'ultrasound', 'mri', 'xray',\n",
      "       'children', 'months'],\n",
      "      dtype='object')\n"
     ]
    }
   ],
   "source": [
    "#read data\n",
    "general = pd.read_csv(\"general.csv\")\n",
    "prenatal = pd.read_csv(\"prenatal.csv\")\n",
    "sports = pd.read_csv(\"sports.csv\")\n",
    "\n",
    "print(general.columns)\n",
    "print(prenatal.columns)\n",
    "print(sports.columns)"
   ]
  },
  {
   "cell_type": "code",
   "execution_count": 9,
   "metadata": {},
   "outputs": [
    {
     "data": {
      "text/html": [
       "<div>\n",
       "<style scoped>\n",
       "    .dataframe tbody tr th:only-of-type {\n",
       "        vertical-align: middle;\n",
       "    }\n",
       "\n",
       "    .dataframe tbody tr th {\n",
       "        vertical-align: top;\n",
       "    }\n",
       "\n",
       "    .dataframe thead th {\n",
       "        text-align: right;\n",
       "    }\n",
       "</style>\n",
       "<table border=\"1\" class=\"dataframe\">\n",
       "  <thead>\n",
       "    <tr style=\"text-align: right;\">\n",
       "      <th></th>\n",
       "      <th>Unnamed: 0</th>\n",
       "      <th>hospital</th>\n",
       "      <th>gender</th>\n",
       "      <th>age</th>\n",
       "      <th>height</th>\n",
       "      <th>weight</th>\n",
       "      <th>bmi</th>\n",
       "      <th>diagnosis</th>\n",
       "      <th>blood_test</th>\n",
       "      <th>ecg</th>\n",
       "      <th>ultrasound</th>\n",
       "      <th>mri</th>\n",
       "      <th>xray</th>\n",
       "      <th>children</th>\n",
       "      <th>months</th>\n",
       "    </tr>\n",
       "  </thead>\n",
       "  <tbody>\n",
       "    <tr>\n",
       "      <th>0</th>\n",
       "      <td>0</td>\n",
       "      <td>general</td>\n",
       "      <td>man</td>\n",
       "      <td>33.0</td>\n",
       "      <td>1.64</td>\n",
       "      <td>66.0</td>\n",
       "      <td>24.9</td>\n",
       "      <td>cold</td>\n",
       "      <td>t</td>\n",
       "      <td>NaN</td>\n",
       "      <td>NaN</td>\n",
       "      <td>NaN</td>\n",
       "      <td>NaN</td>\n",
       "      <td>NaN</td>\n",
       "      <td>NaN</td>\n",
       "    </tr>\n",
       "    <tr>\n",
       "      <th>1</th>\n",
       "      <td>1</td>\n",
       "      <td>general</td>\n",
       "      <td>man</td>\n",
       "      <td>48.0</td>\n",
       "      <td>1.93</td>\n",
       "      <td>106.0</td>\n",
       "      <td>28.4</td>\n",
       "      <td>stomach</td>\n",
       "      <td>t</td>\n",
       "      <td>NaN</td>\n",
       "      <td>t</td>\n",
       "      <td>NaN</td>\n",
       "      <td>NaN</td>\n",
       "      <td>NaN</td>\n",
       "      <td>NaN</td>\n",
       "    </tr>\n",
       "    <tr>\n",
       "      <th>2</th>\n",
       "      <td>2</td>\n",
       "      <td>general</td>\n",
       "      <td>woman</td>\n",
       "      <td>23.0</td>\n",
       "      <td>1.54</td>\n",
       "      <td>63.0</td>\n",
       "      <td>26.8</td>\n",
       "      <td>cold</td>\n",
       "      <td>t</td>\n",
       "      <td>NaN</td>\n",
       "      <td>NaN</td>\n",
       "      <td>NaN</td>\n",
       "      <td>NaN</td>\n",
       "      <td>NaN</td>\n",
       "      <td>NaN</td>\n",
       "    </tr>\n",
       "    <tr>\n",
       "      <th>3</th>\n",
       "      <td>3</td>\n",
       "      <td>general</td>\n",
       "      <td>man</td>\n",
       "      <td>27.0</td>\n",
       "      <td>1.94</td>\n",
       "      <td>103.0</td>\n",
       "      <td>27.5</td>\n",
       "      <td>stomach</td>\n",
       "      <td>t</td>\n",
       "      <td>NaN</td>\n",
       "      <td>t</td>\n",
       "      <td>NaN</td>\n",
       "      <td>NaN</td>\n",
       "      <td>NaN</td>\n",
       "      <td>NaN</td>\n",
       "    </tr>\n",
       "    <tr>\n",
       "      <th>4</th>\n",
       "      <td>4</td>\n",
       "      <td>general</td>\n",
       "      <td>woman</td>\n",
       "      <td>22.0</td>\n",
       "      <td>1.76</td>\n",
       "      <td>74.0</td>\n",
       "      <td>24.0</td>\n",
       "      <td>dislocation</td>\n",
       "      <td>NaN</td>\n",
       "      <td>NaN</td>\n",
       "      <td>NaN</td>\n",
       "      <td>NaN</td>\n",
       "      <td>f</td>\n",
       "      <td>NaN</td>\n",
       "      <td>NaN</td>\n",
       "    </tr>\n",
       "  </tbody>\n",
       "</table>\n",
       "</div>"
      ],
      "text/plain": [
       "   Unnamed: 0 hospital gender   age  height  weight   bmi    diagnosis  \\\n",
       "0           0  general    man  33.0    1.64    66.0  24.9         cold   \n",
       "1           1  general    man  48.0    1.93   106.0  28.4      stomach   \n",
       "2           2  general  woman  23.0    1.54    63.0  26.8         cold   \n",
       "3           3  general    man  27.0    1.94   103.0  27.5      stomach   \n",
       "4           4  general  woman  22.0    1.76    74.0  24.0  dislocation   \n",
       "\n",
       "  blood_test  ecg ultrasound  mri xray  children  months  \n",
       "0          t  NaN        NaN  NaN  NaN       NaN     NaN  \n",
       "1          t  NaN          t  NaN  NaN       NaN     NaN  \n",
       "2          t  NaN        NaN  NaN  NaN       NaN     NaN  \n",
       "3          t  NaN          t  NaN  NaN       NaN     NaN  \n",
       "4        NaN  NaN        NaN  NaN    f       NaN     NaN  "
      ]
     },
     "execution_count": 9,
     "metadata": {},
     "output_type": "execute_result"
    }
   ],
   "source": [
    "#change column names for consistency purposes\n",
    "prenatal.rename(columns={'HOSPITAL': 'hospital'}, inplace=True)\n",
    "prenatal.rename(columns={'Sex': 'gender'}, inplace=True)\n",
    "sports.rename(columns={'Hospital': 'hospital'}, inplace=True)\n",
    "sports.rename(columns={'Male/female': 'gender'}, inplace=True)\n",
    "\n",
    "\n",
    "#merge data\n",
    "hospitals_data = pd.concat([general, prenatal, sports], ignore_index=True)\n",
    "\n",
    "#show\n",
    "hospitals_data.head()"
   ]
  },
  {
   "cell_type": "code",
   "execution_count": 11,
   "metadata": {},
   "outputs": [],
   "source": [
    "#clean data\n",
    "hospitals_data.drop(['Unnamed: 0'], axis=1, inplace=True)\n",
    "hospitals_data.dropna(how='all', inplace=True)\n",
    "hospitals_data.fillna(0, inplace=True)\n",
    "\n",
    "hospitals_data['gender'] = hospitals_data['gender'].replace('0', 'f')\n",
    "hospitals_data['gender'] = hospitals_data['gender'].replace(['female', 'woman'], 'f')\n",
    "hospitals_data['gender'] = hospitals_data['gender'].replace(['male', 'man'], 'm')"
   ]
  },
  {
   "cell_type": "markdown",
   "metadata": {},
   "source": [
    "# Questions to the dataset"
   ]
  },
  {
   "cell_type": "markdown",
   "metadata": {},
   "source": [
    "1. Which hospital has the highest number of patients? (histogram)\n",
    "2. What is the most common diagnosis among the patients of sport hospital? (pie chart)\n",
    "3. What share of the patients in the general hospital suffers from stomach-related issues? Round the result to the third decimal place.\n",
    "4. What share of the patients in the sports hospital suffers from dislocation-related issues? Round the result to the third decimal place.\n",
    "5. What is the difference in the median ages of the patients in the general and sports hospitals?"
   ]
  },
  {
   "cell_type": "code",
   "execution_count": 59,
   "metadata": {},
   "outputs": [
    {
     "name": "stdout",
     "output_type": "stream",
     "text": [
      "          patients number\n",
      "general               461\n",
      "prenatal              325\n",
      "sports                214\n",
      "The highest nymber of patients is in general hospital.\n"
     ]
    },
    {
     "data": {
      "image/png": "[encoded data removed]",
      "text/plain": [
       "<Figure size 432x288 with 1 Axes>"
      ]
     },
     "metadata": {
      "needs_background": "light"
     },
     "output_type": "display_data"
    }
   ],
   "source": [
    "#answer to question 1\n",
    "patients = hospitals_data['hospital'].value_counts().to_frame('patients number')\n",
    "print(patients)\n",
    "#checking hospital type with highest number of patients\n",
    "answer1 = patients['patients number'].idxmax()\n",
    "print(f'\\nThe highest nymber of patients is in {answer1} hospital.')\n",
    "#plotting\n",
    "plt.hist(hospitals_data.hospital)\n",
    "plt.show()"
   ]
  },
  {
   "cell_type": "code",
   "execution_count": 77,
   "metadata": {},
   "outputs": [
    {
     "name": "stdout",
     "output_type": "stream",
     "text": [
      "hospital  diagnosis  \n",
      "general   cold           178\n",
      "          dislocation     25\n",
      "          fracture        24\n",
      "          heart           56\n",
      "          pregnancy        5\n",
      "          sprain          23\n",
      "          stomach        150\n",
      "prenatal  cold            12\n",
      "          pregnancy      313\n",
      "sports    cold             4\n",
      "          dislocation     61\n",
      "          fracture        61\n",
      "          sprain          81\n",
      "          stomach          7\n",
      "Name: diagnosis, dtype: int64\n",
      "The most common diagnosis among patients of sport hospital is sprain.\n"
     ]
    },
    {
     "data": {
      "image/png": "[encoded data removed]",
      "text/plain": [
       "<Figure size 432x288 with 1 Axes>"
      ]
     },
     "metadata": {},
     "output_type": "display_data"
    }
   ],
   "source": [
    "#answer to question 2\n",
    "#check how common was each diagnosis per hospital type\n",
    "diagnosis_per_hospital = hospitals_data.groupby([\"hospital\", \"diagnosis\"])['diagnosis'].count()\n",
    "print(diagnosis_per_hospital)\n",
    "#check the most common diagnosis in sport hospital\n",
    "answer2 = diagnosis_per_hospital['sports'].idxmax()\n",
    "print(f'\\nThe most common diagnosis among patients of sport hospital is {answer2}.')\n",
    "#plotting\n",
    "diagnosis_per_hospital['sports'].plot(kind='pie')\n",
    "plt.title(\"How common each diagnosis is in sport hospital?\")\n",
    "plt.show()"
   ]
  },
  {
   "cell_type": "code",
   "execution_count": 91,
   "metadata": {},
   "outputs": [
    {
     "name": "stdout",
     "output_type": "stream",
     "text": [
      "diagnosis\n",
      "cold           178\n",
      "dislocation     25\n",
      "fracture        24\n",
      "heart           56\n",
      "pregnancy        5\n",
      "sprain          23\n",
      "stomach        150\n",
      "Name: diagnosis, dtype: int64\n",
      "\n",
      "Share of the patients in the general hospital who suffer from stomach-related issues is 0.325.\n"
     ]
    }
   ],
   "source": [
    "#answer to question 3\n",
    "#show data in general hospital\n",
    "print(diagnosis_per_hospital['general'])\n",
    "#count number of all diagnosis\n",
    "diagnosis_sum = diagnosis_per_hospital['general'].sum()\n",
    "#check how many times stomach issues were diagnosed\n",
    "stomach = diagnosis_per_hospital['general']['stomach']\n",
    "\n",
    "answer3 = (stomach/diagnosis_sum).round(3)\n",
    "print(f'\\nShare of the patients in the general hospital who suffer from stomach-related issues is {answer3}.')"
   ]
  },
  {
   "cell_type": "code",
   "execution_count": 92,
   "metadata": {},
   "outputs": [
    {
     "name": "stdout",
     "output_type": "stream",
     "text": [
      "diagnosis\n",
      "cold            4\n",
      "dislocation    61\n",
      "fracture       61\n",
      "sprain         81\n",
      "stomach         7\n",
      "Name: diagnosis, dtype: int64\n",
      "\n",
      "Share of the patients in the sports hospital who suffer from dislocation is 0.285.\n"
     ]
    }
   ],
   "source": [
    "#answer to question 4\n",
    "#show data in sports hospital\n",
    "print(diagnosis_per_hospital['sports'])\n",
    "#count number of all diagnosis\n",
    "diagnosis_sum = diagnosis_per_hospital['sports'].sum()\n",
    "#check how many times stomach issues were diagnosed\n",
    "dislocation = diagnosis_per_hospital['sports']['dislocation']\n",
    "\n",
    "answer4 = (dislocation/diagnosis_sum).round(3)\n",
    "print(f'\\nShare of the patients in the sports hospital who suffer from dislocation is {answer4}.')"
   ]
  },
  {
   "cell_type": "code",
   "execution_count": 99,
   "metadata": {},
   "outputs": [
    {
     "name": "stdout",
     "output_type": "stream",
     "text": [
      "Difference in the median ages of the patients in the general and sports hospitals is 19.0.\n"
     ]
    }
   ],
   "source": [
    "#answer to question 5\n",
    "patients_age = hospitals_data.groupby(['hospital'])['age'].median()\n",
    "age_general = patients_age['general']\n",
    "age_sports = patients_age['sports']\n",
    "answer5 = age_general - age_sports\n",
    "print(f'Difference in the median ages of the patients in the general and sports hospitals is {answer5}.')"
   ]
  },
  {
   "cell_type": "code",
   "execution_count": null,
   "metadata": {},
   "outputs": [],
   "source": []
  }
 ],
 "metadata": {
  "kernelspec": {
   "display_name": "Python 3",
   "language": "python",
   "name": "python3"
  },
  "language_info": {
   "codemirror_mode": {
    "name": "ipython",
    "version": 3
   },
   "file_extension": ".py",
   "mimetype": "text/x-python",
   "name": "python",
   "nbconvert_exporter": "python",
   "pygments_lexer": "ipython3",
   "version": "3.7.6"
  }
 },
 "nbformat": 4,
 "nbformat_minor": 4
}
